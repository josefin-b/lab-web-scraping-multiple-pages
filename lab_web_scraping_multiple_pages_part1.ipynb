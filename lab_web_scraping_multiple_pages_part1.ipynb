{
 "cells": [
  {
   "cell_type": "markdown",
   "metadata": {},
   "source": [
    "# Lab | Web Scraping Single Page\n",
    "**Business goal:**\n",
    "\n",
    "    Check the case_study_gnod.md file.\n",
    "\n",
    "    Make sure you've understood the big picture of your project:\n",
    "        the goal of the company (Gnod),\n",
    "        their current product (Gnoosic),\n",
    "        their strategy, and\n",
    "        how your project fits into this context.\n",
    "\n",
    "    Re-read the business case and the e-mail from the CTO, take a look at the flowchart and create an initial Trello board with the tasks you think you'll have to accomplish.\n",
    "\n",
    "**Instructions - Scraping popular songs**\n",
    "\n",
    "Your product will take a song as an input from the user and will output another song (the recommendation). In most cases, the recommended song will have to be similar to the inputted song, but the CTO thinks that if the song is on the top charts at the moment, the user will enjoy more a recommendation of a song that's also popular at the moment.\n",
    "\n",
    "You have find data on the internet about currently popular songs. Billboard maintains a weekly Top 100 of \"hot\" songs here: https://www.billboard.com/charts/hot-100.\n",
    "\n",
    "It's a good place to start! Scrape the current top 100 songs and their respective artists, and put the information into a pandas dataframe."
   ]
  },
  {
   "cell_type": "markdown",
   "metadata": {},
   "source": [
    "## Loading the libraries"
   ]
  },
  {
   "cell_type": "code",
   "execution_count": 1,
   "metadata": {},
   "outputs": [],
   "source": [
    "from bs4 import BeautifulSoup\n",
    "import requests\n",
    "import re\n",
    "import pandas as pd"
   ]
  },
  {
   "cell_type": "markdown",
   "metadata": {},
   "source": [
    "## Storing the URL"
   ]
  },
  {
   "cell_type": "code",
   "execution_count": 2,
   "metadata": {},
   "outputs": [],
   "source": [
    "url = \"https://www.billboard.com/charts/hot-100\""
   ]
  },
  {
   "cell_type": "markdown",
   "metadata": {},
   "source": [
    "## Getting the html code of the web page"
   ]
  },
  {
   "cell_type": "code",
   "execution_count": 3,
   "metadata": {},
   "outputs": [
    {
     "data": {
      "text/plain": [
       "200"
      ]
     },
     "execution_count": 3,
     "metadata": {},
     "output_type": "execute_result"
    }
   ],
   "source": [
    "response = requests.get(url)\n",
    "response.status_code # 200 status code means OK!"
   ]
  },
  {
   "cell_type": "markdown",
   "metadata": {},
   "source": [
    "## Parsing the html code"
   ]
  },
  {
   "cell_type": "code",
   "execution_count": 4,
   "metadata": {},
   "outputs": [],
   "source": [
    "soup = BeautifulSoup(response.content, \"html.parser\")\n",
    "#soup"
   ]
  },
  {
   "cell_type": "markdown",
   "metadata": {},
   "source": [
    "## Retrieving the desired info from the soup"
   ]
  },
  {
   "cell_type": "code",
   "execution_count": 5,
   "metadata": {},
   "outputs": [
    {
     "data": {
      "text/plain": [
       "[<span class=\"chart-element__information__artist text--truncate color--secondary\">Olivia Rodrigo</span>,\n",
       " <span class=\"chart-element__information__artist text--truncate color--secondary\">Cardi B</span>,\n",
       " <span class=\"chart-element__information__artist text--truncate color--secondary\">The Weeknd</span>,\n",
       " <span class=\"chart-element__information__artist text--truncate color--secondary\">The Weeknd</span>,\n",
       " <span class=\"chart-element__information__artist text--truncate color--secondary\">24kGoldn Featuring iann dior</span>,\n",
       " <span class=\"chart-element__information__artist text--truncate color--secondary\">Ariana Grande</span>,\n",
       " <span class=\"chart-element__information__artist text--truncate color--secondary\">Chris Brown &amp; Young Thug</span>,\n",
       " <span class=\"chart-element__information__artist text--truncate color--secondary\">Dua Lipa Featuring DaBaby</span>,\n",
       " <span class=\"chart-element__information__artist text--truncate color--secondary\">Ariana Grande</span>,\n",
       " <span class=\"chart-element__information__artist text--truncate color--secondary\">Pop Smoke</span>,\n",
       " <span class=\"chart-element__information__artist text--truncate color--secondary\">CJ</span>,\n",
       " <span class=\"chart-element__information__artist text--truncate color--secondary\">Pop Smoke Featuring Lil Baby &amp; DaBaby</span>,\n",
       " <span class=\"chart-element__information__artist text--truncate color--secondary\">SZA</span>,\n",
       " <span class=\"chart-element__information__artist text--truncate color--secondary\">Justin Bieber Featuring Chance The Rapper</span>,\n",
       " <span class=\"chart-element__information__artist text--truncate color--secondary\">Billie Eilish</span>,\n",
       " <span class=\"chart-element__information__artist text--truncate color--secondary\">Justin Bieber &amp; benny blanco</span>,\n",
       " <span class=\"chart-element__information__artist text--truncate color--secondary\">Pooh Shiesty Featuring Lil Durk</span>,\n",
       " <span class=\"chart-element__information__artist text--truncate color--secondary\">Luke Combs</span>,\n",
       " <span class=\"chart-element__information__artist text--truncate color--secondary\">Bad Bunny &amp; Jhay Cortez</span>,\n",
       " <span class=\"chart-element__information__artist text--truncate color--secondary\">Gabby Barrett Featuring Charlie Puth</span>,\n",
       " <span class=\"chart-element__information__artist text--truncate color--secondary\">Megan Thee Stallion</span>,\n",
       " <span class=\"chart-element__information__artist text--truncate color--secondary\">Doja Cat</span>,\n",
       " <span class=\"chart-element__information__artist text--truncate color--secondary\">AJR</span>,\n",
       " <span class=\"chart-element__information__artist text--truncate color--secondary\">Tate McRae</span>,\n",
       " <span class=\"chart-element__information__artist text--truncate color--secondary\">Machine Gun Kelly X blackbear</span>,\n",
       " <span class=\"chart-element__information__artist text--truncate color--secondary\">Yung Bleu Featuring Drake</span>,\n",
       " <span class=\"chart-element__information__artist text--truncate color--secondary\">Internet Money &amp; Gunna Featuring Don Toliver &amp; NAV</span>,\n",
       " <span class=\"chart-element__information__artist text--truncate color--secondary\">Megan Thee Stallion Featuring DaBaby</span>,\n",
       " <span class=\"chart-element__information__artist text--truncate color--secondary\">Taylor Swift</span>,\n",
       " <span class=\"chart-element__information__artist text--truncate color--secondary\">Drake Featuring Lil Durk</span>,\n",
       " <span class=\"chart-element__information__artist text--truncate color--secondary\">Lil Baby</span>,\n",
       " <span class=\"chart-element__information__artist text--truncate color--secondary\">Lewis Capaldi</span>,\n",
       " <span class=\"chart-element__information__artist text--truncate color--secondary\">BRS Kash</span>,\n",
       " <span class=\"chart-element__information__artist text--truncate color--secondary\">Justin Bieber</span>,\n",
       " <span class=\"chart-element__information__artist text--truncate color--secondary\">Niko Moon</span>,\n",
       " <span class=\"chart-element__information__artist text--truncate color--secondary\">Morgan Wallen</span>,\n",
       " <span class=\"chart-element__information__artist text--truncate color--secondary\">Moneybagg Yo</span>,\n",
       " <span class=\"chart-element__information__artist text--truncate color--secondary\">Morgan Wallen</span>,\n",
       " <span class=\"chart-element__information__artist text--truncate color--secondary\">Kelsea Ballerini</span>,\n",
       " <span class=\"chart-element__information__artist text--truncate color--secondary\">Chris Stapleton</span>,\n",
       " <span class=\"chart-element__information__artist text--truncate color--secondary\">Saweetie Featuring Doja Cat</span>,\n",
       " <span class=\"chart-element__information__artist text--truncate color--secondary\">Parmalee x Blanco Brown</span>,\n",
       " <span class=\"chart-element__information__artist text--truncate color--secondary\">BTS</span>,\n",
       " <span class=\"chart-element__information__artist text--truncate color--secondary\">The Kid LAROI</span>,\n",
       " <span class=\"chart-element__information__artist text--truncate color--secondary\">Ritt Momney</span>,\n",
       " <span class=\"chart-element__information__artist text--truncate color--secondary\">Darius Rucker</span>,\n",
       " <span class=\"chart-element__information__artist text--truncate color--secondary\">H.E.R.</span>,\n",
       " <span class=\"chart-element__information__artist text--truncate color--secondary\">Ava Max</span>,\n",
       " <span class=\"chart-element__information__artist text--truncate color--secondary\">DaBaby Featuring Roddy Ricch</span>,\n",
       " <span class=\"chart-element__information__artist text--truncate color--secondary\">Luke Bryan</span>,\n",
       " <span class=\"chart-element__information__artist text--truncate color--secondary\">Pooh Shiesty Featuring BIG30</span>,\n",
       " <span class=\"chart-element__information__artist text--truncate color--secondary\">Morgan Wallen</span>,\n",
       " <span class=\"chart-element__information__artist text--truncate color--secondary\">SpotemGottem</span>,\n",
       " <span class=\"chart-element__information__artist text--truncate color--secondary\">Thomas Rhett</span>,\n",
       " <span class=\"chart-element__information__artist text--truncate color--secondary\">Polo G</span>,\n",
       " <span class=\"chart-element__information__artist text--truncate color--secondary\">Gabby Barrett</span>,\n",
       " <span class=\"chart-element__information__artist text--truncate color--secondary\">Ed Sheeran</span>,\n",
       " <span class=\"chart-element__information__artist text--truncate color--secondary\">Harry Styles</span>,\n",
       " <span class=\"chart-element__information__artist text--truncate color--secondary\">Travis Scott &amp; HVME</span>,\n",
       " <span class=\"chart-element__information__artist text--truncate color--secondary\">Erica Banks</span>,\n",
       " <span class=\"chart-element__information__artist text--truncate color--secondary\">Florida Georgia Line</span>,\n",
       " <span class=\"chart-element__information__artist text--truncate color--secondary\">All Time Low Featuring Demi Lovato &amp; blackbear </span>,\n",
       " <span class=\"chart-element__information__artist text--truncate color--secondary\">Dan + Shay</span>,\n",
       " <span class=\"chart-element__information__artist text--truncate color--secondary\">G-Eazy Featuring Chris Brown &amp; Mark Morrison</span>,\n",
       " <span class=\"chart-element__information__artist text--truncate color--secondary\">Jack Harlow</span>,\n",
       " <span class=\"chart-element__information__artist text--truncate color--secondary\">Morgan Wallen</span>,\n",
       " <span class=\"chart-element__information__artist text--truncate color--secondary\">Luke Combs</span>,\n",
       " <span class=\"chart-element__information__artist text--truncate color--secondary\">Brett Young</span>,\n",
       " <span class=\"chart-element__information__artist text--truncate color--secondary\">Glass Animals</span>,\n",
       " <span class=\"chart-element__information__artist text--truncate color--secondary\">Kenny Chesney</span>,\n",
       " <span class=\"chart-element__information__artist text--truncate color--secondary\">Black Eyed Peas X Shakira</span>,\n",
       " <span class=\"chart-element__information__artist text--truncate color--secondary\">Dustin Lynch</span>,\n",
       " <span class=\"chart-element__information__artist text--truncate color--secondary\">Eric Church</span>,\n",
       " <span class=\"chart-element__information__artist text--truncate color--secondary\">The Kid LAROI</span>,\n",
       " <span class=\"chart-element__information__artist text--truncate color--secondary\">Saweetie Featuring Jhene Aiko</span>,\n",
       " <span class=\"chart-element__information__artist text--truncate color--secondary\">Morgan Wallen</span>,\n",
       " <span class=\"chart-element__information__artist text--truncate color--secondary\">Lil Durk Featuring Lil Baby</span>,\n",
       " <span class=\"chart-element__information__artist text--truncate color--secondary\">Karol G</span>,\n",
       " <span class=\"chart-element__information__artist text--truncate color--secondary\">Tenille Arts</span>,\n",
       " <span class=\"chart-element__information__artist text--truncate color--secondary\">Lil Durk &amp; King Von</span>,\n",
       " <span class=\"chart-element__information__artist text--truncate color--secondary\">Pooh Shiesty Featuring 21 Savage</span>,\n",
       " <span class=\"chart-element__information__artist text--truncate color--secondary\">Ava Max</span>,\n",
       " <span class=\"chart-element__information__artist text--truncate color--secondary\">Juice WRLD &amp; Young Thug</span>,\n",
       " <span class=\"chart-element__information__artist text--truncate color--secondary\">Coi Leray</span>,\n",
       " <span class=\"chart-element__information__artist text--truncate color--secondary\">DDG</span>,\n",
       " <span class=\"chart-element__information__artist text--truncate color--secondary\">Chris Lane</span>,\n",
       " <span class=\"chart-element__information__artist text--truncate color--secondary\">Myke Towers &amp; Juhn</span>,\n",
       " <span class=\"chart-element__information__artist text--truncate color--secondary\">VEDO</span>,\n",
       " <span class=\"chart-element__information__artist text--truncate color--secondary\">Jazmine Sullivan</span>,\n",
       " <span class=\"chart-element__information__artist text--truncate color--secondary\">Morgan Wallen</span>,\n",
       " <span class=\"chart-element__information__artist text--truncate color--secondary\">Shawn Mendes &amp; Justin Bieber</span>,\n",
       " <span class=\"chart-element__information__artist text--truncate color--secondary\">Keith Urban Duet With P!nk</span>,\n",
       " <span class=\"chart-element__information__artist text--truncate color--secondary\">Morgan Wallen</span>,\n",
       " <span class=\"chart-element__information__artist text--truncate color--secondary\">Morgan Wallen</span>,\n",
       " <span class=\"chart-element__information__artist text--truncate color--secondary\">Jason Derulo Featuring Adam Levine</span>,\n",
       " <span class=\"chart-element__information__artist text--truncate color--secondary\">Jordan Davis</span>,\n",
       " <span class=\"chart-element__information__artist text--truncate color--secondary\">DaBaby</span>,\n",
       " <span class=\"chart-element__information__artist text--truncate color--secondary\">Miley Cyrus Featuring Dua Lipa</span>,\n",
       " <span class=\"chart-element__information__artist text--truncate color--secondary\">Sabrina Carpenter</span>,\n",
       " <span class=\"chart-element__information__artist text--truncate color--secondary\">Morray</span>]"
      ]
     },
     "execution_count": 5,
     "metadata": {},
     "output_type": "execute_result"
    }
   ],
   "source": [
    "#artists\n",
    "soup.find_all(\"span\", class_=\"chart-element__information__artist\")"
   ]
  },
  {
   "cell_type": "code",
   "execution_count": 6,
   "metadata": {
    "scrolled": true
   },
   "outputs": [
    {
     "data": {
      "text/plain": [
       "[<span class=\"chart-element__information__song text--truncate color--primary\">Drivers License</span>,\n",
       " <span class=\"chart-element__information__song text--truncate color--primary\">Up</span>,\n",
       " <span class=\"chart-element__information__song text--truncate color--primary\">Blinding Lights</span>,\n",
       " <span class=\"chart-element__information__song text--truncate color--primary\">Save Your Tears</span>,\n",
       " <span class=\"chart-element__information__song text--truncate color--primary\">Mood</span>,\n",
       " <span class=\"chart-element__information__song text--truncate color--primary\">34+35</span>,\n",
       " <span class=\"chart-element__information__song text--truncate color--primary\">Go Crazy</span>,\n",
       " <span class=\"chart-element__information__song text--truncate color--primary\">Levitating</span>,\n",
       " <span class=\"chart-element__information__song text--truncate color--primary\">Positions</span>,\n",
       " <span class=\"chart-element__information__song text--truncate color--primary\">What You Know Bout Love</span>,\n",
       " <span class=\"chart-element__information__song text--truncate color--primary\">Whoopty</span>,\n",
       " <span class=\"chart-element__information__song text--truncate color--primary\">For The Night</span>,\n",
       " <span class=\"chart-element__information__song text--truncate color--primary\">Good Days</span>,\n",
       " <span class=\"chart-element__information__song text--truncate color--primary\">Holy</span>,\n",
       " <span class=\"chart-element__information__song text--truncate color--primary\">Therefore I Am</span>,\n",
       " <span class=\"chart-element__information__song text--truncate color--primary\">Lonely</span>,\n",
       " <span class=\"chart-element__information__song text--truncate color--primary\">Back In Blood</span>,\n",
       " <span class=\"chart-element__information__song text--truncate color--primary\">Better Together</span>,\n",
       " <span class=\"chart-element__information__song text--truncate color--primary\">Dakiti</span>,\n",
       " <span class=\"chart-element__information__song text--truncate color--primary\">I Hope</span>,\n",
       " <span class=\"chart-element__information__song text--truncate color--primary\">Body</span>,\n",
       " <span class=\"chart-element__information__song text--truncate color--primary\">Streets</span>,\n",
       " <span class=\"chart-element__information__song text--truncate color--primary\">Bang!</span>,\n",
       " <span class=\"chart-element__information__song text--truncate color--primary\">You Broke Me First.</span>,\n",
       " <span class=\"chart-element__information__song text--truncate color--primary\">My Ex's Best Friend</span>,\n",
       " <span class=\"chart-element__information__song text--truncate color--primary\">You're Mines Still</span>,\n",
       " <span class=\"chart-element__information__song text--truncate color--primary\">Lemonade</span>,\n",
       " <span class=\"chart-element__information__song text--truncate color--primary\">Cry Baby</span>,\n",
       " <span class=\"chart-element__information__song text--truncate color--primary\">Willow</span>,\n",
       " <span class=\"chart-element__information__song text--truncate color--primary\">Laugh Now Cry Later</span>,\n",
       " <span class=\"chart-element__information__song text--truncate color--primary\">On Me</span>,\n",
       " <span class=\"chart-element__information__song text--truncate color--primary\">Before You Go</span>,\n",
       " <span class=\"chart-element__information__song text--truncate color--primary\">Throat Baby (Go Baby)</span>,\n",
       " <span class=\"chart-element__information__song text--truncate color--primary\">Anyone</span>,\n",
       " <span class=\"chart-element__information__song text--truncate color--primary\">Good Time</span>,\n",
       " <span class=\"chart-element__information__song text--truncate color--primary\">Wasted On You</span>,\n",
       " <span class=\"chart-element__information__song text--truncate color--primary\">Time Today</span>,\n",
       " <span class=\"chart-element__information__song text--truncate color--primary\">Sand In My Boots</span>,\n",
       " <span class=\"chart-element__information__song text--truncate color--primary\">Hole In The Bottle</span>,\n",
       " <span class=\"chart-element__information__song text--truncate color--primary\">Starting Over</span>,\n",
       " <span class=\"chart-element__information__song text--truncate color--primary\">Best Friend</span>,\n",
       " <span class=\"chart-element__information__song text--truncate color--primary\">Just The Way</span>,\n",
       " <span class=\"chart-element__information__song text--truncate color--primary\">Dynamite</span>,\n",
       " <span class=\"chart-element__information__song text--truncate color--primary\">Without You</span>,\n",
       " <span class=\"chart-element__information__song text--truncate color--primary\">Put Your Records On</span>,\n",
       " <span class=\"chart-element__information__song text--truncate color--primary\">Beers And Sunshine</span>,\n",
       " <span class=\"chart-element__information__song text--truncate color--primary\">Damage</span>,\n",
       " <span class=\"chart-element__information__song text--truncate color--primary\">Kings &amp; Queens</span>,\n",
       " <span class=\"chart-element__information__song text--truncate color--primary\">Rockstar</span>,\n",
       " <span class=\"chart-element__information__song text--truncate color--primary\">Down To One</span>,\n",
       " <span class=\"chart-element__information__song text--truncate color--primary\">Neighbors</span>,\n",
       " <span class=\"chart-element__information__song text--truncate color--primary\">Somebody's Problem</span>,\n",
       " <span class=\"chart-element__information__song text--truncate color--primary\">Beat Box</span>,\n",
       " <span class=\"chart-element__information__song text--truncate color--primary\">What's Your Country Song</span>,\n",
       " <span class=\"chart-element__information__song text--truncate color--primary\">GNF (OKOKOK)</span>,\n",
       " <span class=\"chart-element__information__song text--truncate color--primary\">The Good Ones</span>,\n",
       " <span class=\"chart-element__information__song text--truncate color--primary\">Afterglow</span>,\n",
       " <span class=\"chart-element__information__song text--truncate color--primary\">Golden</span>,\n",
       " <span class=\"chart-element__information__song text--truncate color--primary\">Goosebumps</span>,\n",
       " <span class=\"chart-element__information__song text--truncate color--primary\">Buss It</span>,\n",
       " <span class=\"chart-element__information__song text--truncate color--primary\">Long Live</span>,\n",
       " <span class=\"chart-element__information__song text--truncate color--primary\">Monsters</span>,\n",
       " <span class=\"chart-element__information__song text--truncate color--primary\">Glad You Exist</span>,\n",
       " <span class=\"chart-element__information__song text--truncate color--primary\">Provide</span>,\n",
       " <span class=\"chart-element__information__song text--truncate color--primary\">Tyler Herro</span>,\n",
       " <span class=\"chart-element__information__song text--truncate color--primary\">Cover Me Up</span>,\n",
       " <span class=\"chart-element__information__song text--truncate color--primary\">Forever After All</span>,\n",
       " <span class=\"chart-element__information__song text--truncate color--primary\">Lady</span>,\n",
       " <span class=\"chart-element__information__song text--truncate color--primary\">Heat Waves</span>,\n",
       " <span class=\"chart-element__information__song text--truncate color--primary\">Happy Does</span>,\n",
       " <span class=\"chart-element__information__song text--truncate color--primary\">Girl Like Me</span>,\n",
       " <span class=\"chart-element__information__song text--truncate color--primary\">Momma's House</span>,\n",
       " <span class=\"chart-element__information__song text--truncate color--primary\">Hell Of A View</span>,\n",
       " <span class=\"chart-element__information__song text--truncate color--primary\">So Done</span>,\n",
       " <span class=\"chart-element__information__song text--truncate color--primary\">Back To The Streets</span>,\n",
       " <span class=\"chart-element__information__song text--truncate color--primary\">865</span>,\n",
       " <span class=\"chart-element__information__song text--truncate color--primary\">Finesse Out The Gang Way</span>,\n",
       " <span class=\"chart-element__information__song text--truncate color--primary\">Bichota</span>,\n",
       " <span class=\"chart-element__information__song text--truncate color--primary\">Somebody Like That</span>,\n",
       " <span class=\"chart-element__information__song text--truncate color--primary\">Still Trappin'</span>,\n",
       " <span class=\"chart-element__information__song text--truncate color--primary\">Box Of Churches</span>,\n",
       " <span class=\"chart-element__information__song text--truncate color--primary\">My Head And My Heart</span>,\n",
       " <span class=\"chart-element__information__song text--truncate color--primary\">Bad Boy</span>,\n",
       " <span class=\"chart-element__information__song text--truncate color--primary\">No More Parties</span>,\n",
       " <span class=\"chart-element__information__song text--truncate color--primary\">Moonwalking In Calabasas</span>,\n",
       " <span class=\"chart-element__information__song text--truncate color--primary\">Big, Big Plans</span>,\n",
       " <span class=\"chart-element__information__song text--truncate color--primary\">Bandido</span>,\n",
       " <span class=\"chart-element__information__song text--truncate color--primary\">You Got It</span>,\n",
       " <span class=\"chart-element__information__song text--truncate color--primary\">Pick Up Your Feelings</span>,\n",
       " <span class=\"chart-element__information__song text--truncate color--primary\">Dangerous</span>,\n",
       " <span class=\"chart-element__information__song text--truncate color--primary\">Monster</span>,\n",
       " <span class=\"chart-element__information__song text--truncate color--primary\">One Too Many</span>,\n",
       " <span class=\"chart-element__information__song text--truncate color--primary\">Warning</span>,\n",
       " <span class=\"chart-element__information__song text--truncate color--primary\">Still Goin Down</span>,\n",
       " <span class=\"chart-element__information__song text--truncate color--primary\">Lifestyle</span>,\n",
       " <span class=\"chart-element__information__song text--truncate color--primary\">Almost Maybes</span>,\n",
       " <span class=\"chart-element__information__song text--truncate color--primary\">Masterpiece</span>,\n",
       " <span class=\"chart-element__information__song text--truncate color--primary\">Prisoner</span>,\n",
       " <span class=\"chart-element__information__song text--truncate color--primary\">Skin</span>,\n",
       " <span class=\"chart-element__information__song text--truncate color--primary\">Quicksand</span>]"
      ]
     },
     "execution_count": 6,
     "metadata": {},
     "output_type": "execute_result"
    }
   ],
   "source": [
    "#songs\n",
    "soup.find_all(\"span\", class_=\"chart-element__information__song\")"
   ]
  },
  {
   "cell_type": "markdown",
   "metadata": {},
   "source": [
    "## Store info in dataframe"
   ]
  },
  {
   "cell_type": "code",
   "execution_count": 7,
   "metadata": {},
   "outputs": [],
   "source": [
    "#initializing empty lists\n",
    "song = []\n",
    "artist = []\n",
    "\n",
    "num_iter = len(soup.select(\"ol li\"))\n",
    "\n",
    "#iterate through the result set and retrive all the data\n",
    "for i in range(num_iter):    \n",
    "    song.append(soup.select(\".chart-element__information__song\")[i].get_text())\n",
    "    artist.append(soup.select(\".chart-element__information__artist\")[i].get_text())\n",
    "    \n",
    "df = pd.DataFrame({'artist': artist, 'song': song})"
   ]
  },
  {
   "cell_type": "code",
   "execution_count": 8,
   "metadata": {
    "scrolled": true
   },
   "outputs": [],
   "source": [
    "#artist"
   ]
  },
  {
   "cell_type": "code",
   "execution_count": 9,
   "metadata": {
    "scrolled": true
   },
   "outputs": [],
   "source": [
    "#song"
   ]
  },
  {
   "cell_type": "code",
   "execution_count": 10,
   "metadata": {},
   "outputs": [
    {
     "data": {
      "text/html": [
       "<div>\n",
       "<style scoped>\n",
       "    .dataframe tbody tr th:only-of-type {\n",
       "        vertical-align: middle;\n",
       "    }\n",
       "\n",
       "    .dataframe tbody tr th {\n",
       "        vertical-align: top;\n",
       "    }\n",
       "\n",
       "    .dataframe thead th {\n",
       "        text-align: right;\n",
       "    }\n",
       "</style>\n",
       "<table border=\"1\" class=\"dataframe\">\n",
       "  <thead>\n",
       "    <tr style=\"text-align: right;\">\n",
       "      <th></th>\n",
       "      <th>artist</th>\n",
       "      <th>song</th>\n",
       "    </tr>\n",
       "  </thead>\n",
       "  <tbody>\n",
       "    <tr>\n",
       "      <th>0</th>\n",
       "      <td>Olivia Rodrigo</td>\n",
       "      <td>Drivers License</td>\n",
       "    </tr>\n",
       "    <tr>\n",
       "      <th>1</th>\n",
       "      <td>Cardi B</td>\n",
       "      <td>Up</td>\n",
       "    </tr>\n",
       "    <tr>\n",
       "      <th>2</th>\n",
       "      <td>The Weeknd</td>\n",
       "      <td>Blinding Lights</td>\n",
       "    </tr>\n",
       "    <tr>\n",
       "      <th>3</th>\n",
       "      <td>The Weeknd</td>\n",
       "      <td>Save Your Tears</td>\n",
       "    </tr>\n",
       "    <tr>\n",
       "      <th>4</th>\n",
       "      <td>24kGoldn Featuring iann dior</td>\n",
       "      <td>Mood</td>\n",
       "    </tr>\n",
       "    <tr>\n",
       "      <th>...</th>\n",
       "      <td>...</td>\n",
       "      <td>...</td>\n",
       "    </tr>\n",
       "    <tr>\n",
       "      <th>95</th>\n",
       "      <td>Jordan Davis</td>\n",
       "      <td>Almost Maybes</td>\n",
       "    </tr>\n",
       "    <tr>\n",
       "      <th>96</th>\n",
       "      <td>DaBaby</td>\n",
       "      <td>Masterpiece</td>\n",
       "    </tr>\n",
       "    <tr>\n",
       "      <th>97</th>\n",
       "      <td>Miley Cyrus Featuring Dua Lipa</td>\n",
       "      <td>Prisoner</td>\n",
       "    </tr>\n",
       "    <tr>\n",
       "      <th>98</th>\n",
       "      <td>Sabrina Carpenter</td>\n",
       "      <td>Skin</td>\n",
       "    </tr>\n",
       "    <tr>\n",
       "      <th>99</th>\n",
       "      <td>Morray</td>\n",
       "      <td>Quicksand</td>\n",
       "    </tr>\n",
       "  </tbody>\n",
       "</table>\n",
       "<p>100 rows × 2 columns</p>\n",
       "</div>"
      ],
      "text/plain": [
       "                            artist             song\n",
       "0                   Olivia Rodrigo  Drivers License\n",
       "1                          Cardi B               Up\n",
       "2                       The Weeknd  Blinding Lights\n",
       "3                       The Weeknd  Save Your Tears\n",
       "4     24kGoldn Featuring iann dior             Mood\n",
       "..                             ...              ...\n",
       "95                    Jordan Davis    Almost Maybes\n",
       "96                          DaBaby      Masterpiece\n",
       "97  Miley Cyrus Featuring Dua Lipa         Prisoner\n",
       "98               Sabrina Carpenter             Skin\n",
       "99                          Morray        Quicksand\n",
       "\n",
       "[100 rows x 2 columns]"
      ]
     },
     "execution_count": 10,
     "metadata": {},
     "output_type": "execute_result"
    }
   ],
   "source": [
    "df"
   ]
  },
  {
   "cell_type": "markdown",
   "metadata": {},
   "source": [
    "# Lab | Web Scraping Multiple Pages\n",
    "\n",
    "**Instructions**\n",
    "\n",
    "**Expand the project**\n",
    "\n",
    "If you're done, you can try to expand the project on your own. Here are a few suggestions:\n",
    "\n",
    "    1. Find other lists of hot songs on the internet and scrape them too: having a bigger pool of songs will be awesome!\n",
    "    2. Apply the same logic to other \"groups\" of songs: the best songs from a decade or from a country / culture / language / genre.\n",
    "    3. Wikipedia maintains a large collection of lists of songs: https://en.wikipedia.org/wiki/Lists_of_songs\n",
    "\n",
    "**Practice web scraping**\n",
    "\n",
    "See Part 2 of Lab."
   ]
  },
  {
   "cell_type": "markdown",
   "metadata": {},
   "source": [
    "## Expand the project"
   ]
  },
  {
   "cell_type": "markdown",
   "metadata": {},
   "source": [
    "### hot songs - year end - from billboard (list 1)"
   ]
  },
  {
   "cell_type": "code",
   "execution_count": 11,
   "metadata": {},
   "outputs": [],
   "source": [
    "url = \"https://www.billboard.com/charts/year-end/hot-100-songs\""
   ]
  },
  {
   "cell_type": "code",
   "execution_count": 12,
   "metadata": {},
   "outputs": [
    {
     "data": {
      "text/plain": [
       "200"
      ]
     },
     "execution_count": 12,
     "metadata": {},
     "output_type": "execute_result"
    }
   ],
   "source": [
    "response = requests.get(url)\n",
    "response.status_code # 200 status code means OK!"
   ]
  },
  {
   "cell_type": "code",
   "execution_count": 13,
   "metadata": {},
   "outputs": [],
   "source": [
    "soup1 = BeautifulSoup(response.content, \"html.parser\")\n",
    "#soup1"
   ]
  },
  {
   "cell_type": "code",
   "execution_count": 14,
   "metadata": {},
   "outputs": [
    {
     "data": {
      "text/html": [
       "<div>\n",
       "<style scoped>\n",
       "    .dataframe tbody tr th:only-of-type {\n",
       "        vertical-align: middle;\n",
       "    }\n",
       "\n",
       "    .dataframe tbody tr th {\n",
       "        vertical-align: top;\n",
       "    }\n",
       "\n",
       "    .dataframe thead th {\n",
       "        text-align: right;\n",
       "    }\n",
       "</style>\n",
       "<table border=\"1\" class=\"dataframe\">\n",
       "  <thead>\n",
       "    <tr style=\"text-align: right;\">\n",
       "      <th></th>\n",
       "      <th>artist</th>\n",
       "      <th>song</th>\n",
       "    </tr>\n",
       "  </thead>\n",
       "  <tbody>\n",
       "    <tr>\n",
       "      <th>0</th>\n",
       "      <td>\\n\\nThe Weeknd\\n\\n</td>\n",
       "      <td>\\nBlinding Lights\\n</td>\n",
       "    </tr>\n",
       "    <tr>\n",
       "      <th>1</th>\n",
       "      <td>\\n\\nPost Malone\\n\\n</td>\n",
       "      <td>\\nCircles\\n</td>\n",
       "    </tr>\n",
       "    <tr>\n",
       "      <th>2</th>\n",
       "      <td>\\n\\nRoddy Ricch\\n\\n</td>\n",
       "      <td>\\nThe Box\\n</td>\n",
       "    </tr>\n",
       "    <tr>\n",
       "      <th>3</th>\n",
       "      <td>\\n\\nDua Lipa\\n\\n</td>\n",
       "      <td>\\n Don't Start Now\\n</td>\n",
       "    </tr>\n",
       "    <tr>\n",
       "      <th>4</th>\n",
       "      <td>\\nDaBaby Featuring Roddy Ricch\\n</td>\n",
       "      <td>\\nRockstar\\n</td>\n",
       "    </tr>\n",
       "    <tr>\n",
       "      <th>...</th>\n",
       "      <td>...</td>\n",
       "      <td>...</td>\n",
       "    </tr>\n",
       "    <tr>\n",
       "      <th>95</th>\n",
       "      <td>\\n\\nMorgan Wallen\\n\\n</td>\n",
       "      <td>\\nMore Than My Hometown\\n</td>\n",
       "    </tr>\n",
       "    <tr>\n",
       "      <th>96</th>\n",
       "      <td>\\n\\nLuke Combs\\n\\n</td>\n",
       "      <td>\\nLovin' On You\\n</td>\n",
       "    </tr>\n",
       "    <tr>\n",
       "      <th>97</th>\n",
       "      <td>\\n\\nMoneybagg Yo\\n\\n</td>\n",
       "      <td>\\nSaid Sum\\n</td>\n",
       "    </tr>\n",
       "    <tr>\n",
       "      <th>98</th>\n",
       "      <td>\\nH.E.R. Featuring YG\\n</td>\n",
       "      <td>\\nSlide\\n</td>\n",
       "    </tr>\n",
       "    <tr>\n",
       "      <th>99</th>\n",
       "      <td>\\nNLE Choppa Featuring Roddy Ricch\\n</td>\n",
       "      <td>\\nWalk Em Down\\n</td>\n",
       "    </tr>\n",
       "  </tbody>\n",
       "</table>\n",
       "<p>100 rows × 2 columns</p>\n",
       "</div>"
      ],
      "text/plain": [
       "                                  artist                       song\n",
       "0                     \\n\\nThe Weeknd\\n\\n        \\nBlinding Lights\\n\n",
       "1                    \\n\\nPost Malone\\n\\n                \\nCircles\\n\n",
       "2                    \\n\\nRoddy Ricch\\n\\n                \\nThe Box\\n\n",
       "3                       \\n\\nDua Lipa\\n\\n       \\n Don't Start Now\\n\n",
       "4       \\nDaBaby Featuring Roddy Ricch\\n               \\nRockstar\\n\n",
       "..                                   ...                        ...\n",
       "95                 \\n\\nMorgan Wallen\\n\\n  \\nMore Than My Hometown\\n\n",
       "96                    \\n\\nLuke Combs\\n\\n          \\nLovin' On You\\n\n",
       "97                  \\n\\nMoneybagg Yo\\n\\n               \\nSaid Sum\\n\n",
       "98               \\nH.E.R. Featuring YG\\n                  \\nSlide\\n\n",
       "99  \\nNLE Choppa Featuring Roddy Ricch\\n           \\nWalk Em Down\\n\n",
       "\n",
       "[100 rows x 2 columns]"
      ]
     },
     "execution_count": 14,
     "metadata": {},
     "output_type": "execute_result"
    }
   ],
   "source": [
    "#initializing empty lists\n",
    "song1 = []\n",
    "artist1 = []\n",
    "\n",
    "num_iter = len(soup1.select(\".ye-chart-item__title\"))\n",
    "\n",
    "#iterate through the result set and retrive all the data\n",
    "for i in range(num_iter):    \n",
    "    song1.append(soup1.select(\".ye-chart-item__title\")[i].get_text())\n",
    "    artist1.append(soup1.select(\".ye-chart-item__artist\")[i].get_text())\n",
    "    \n",
    "df_bb = pd.DataFrame({'artist': artist1, 'song': song1})\n",
    "df_bb"
   ]
  },
  {
   "cell_type": "code",
   "execution_count": 15,
   "metadata": {},
   "outputs": [],
   "source": [
    "#df_bb['artist'] = df_bb['artist'].replace('\\n\\n', '')\n",
    "#df_bb['song'] = df_bb['song'].replace('\\n', '')\n",
    "#df_bb"
   ]
  },
  {
   "cell_type": "markdown",
   "metadata": {},
   "source": [
    "### hot songs from tonspion.de (list 2)\n",
    "tracklist \"Deutsche Musik: Die 100 besten deutschsprachigen Songs\""
   ]
  },
  {
   "cell_type": "code",
   "execution_count": 16,
   "metadata": {},
   "outputs": [],
   "source": [
    "url = \"https://www.tonspion.de/news/playlist-die-besten-deutschsprachigen-lieder\""
   ]
  },
  {
   "cell_type": "code",
   "execution_count": 17,
   "metadata": {},
   "outputs": [
    {
     "data": {
      "text/plain": [
       "200"
      ]
     },
     "execution_count": 17,
     "metadata": {},
     "output_type": "execute_result"
    }
   ],
   "source": [
    "response = requests.get(url)\n",
    "response.status_code # 200 status code means OK!"
   ]
  },
  {
   "cell_type": "code",
   "execution_count": 18,
   "metadata": {},
   "outputs": [],
   "source": [
    "soup2 = BeautifulSoup(response.content, \"html.parser\")\n",
    "#soup2"
   ]
  },
  {
   "cell_type": "code",
   "execution_count": 19,
   "metadata": {
    "scrolled": true
   },
   "outputs": [],
   "source": [
    "#initializing empty lists\n",
    "artist_song = []\n",
    "\n",
    "num_iter = len(soup2.select(\"ol li\"))\n",
    "\n",
    "#iterate through the result set and retrive all the data\n",
    "for i in range(num_iter):    \n",
    "    artist_song.append(soup2.select(\"ol li\")[i].get_text())\n",
    "    \n",
    "#artist_song"
   ]
  },
  {
   "cell_type": "code",
   "execution_count": 20,
   "metadata": {},
   "outputs": [
    {
     "data": {
      "text/html": [
       "<div>\n",
       "<style scoped>\n",
       "    .dataframe tbody tr th:only-of-type {\n",
       "        vertical-align: middle;\n",
       "    }\n",
       "\n",
       "    .dataframe tbody tr th {\n",
       "        vertical-align: top;\n",
       "    }\n",
       "\n",
       "    .dataframe thead th {\n",
       "        text-align: right;\n",
       "    }\n",
       "</style>\n",
       "<table border=\"1\" class=\"dataframe\">\n",
       "  <thead>\n",
       "    <tr style=\"text-align: right;\">\n",
       "      <th></th>\n",
       "      <th>artist</th>\n",
       "      <th>song</th>\n",
       "    </tr>\n",
       "  </thead>\n",
       "  <tbody>\n",
       "    <tr>\n",
       "      <th>0</th>\n",
       "      <td>Beginner &amp; Samy Deluxe</td>\n",
       "      <td>Füchse</td>\n",
       "    </tr>\n",
       "    <tr>\n",
       "      <th>1</th>\n",
       "      <td>Casper</td>\n",
       "      <td>Im Ascheregen</td>\n",
       "    </tr>\n",
       "    <tr>\n",
       "      <th>2</th>\n",
       "      <td>Chefket</td>\n",
       "      <td>Rap &amp; Soul</td>\n",
       "    </tr>\n",
       "    <tr>\n",
       "      <th>3</th>\n",
       "      <td>Fatoni &amp; Dexter</td>\n",
       "      <td>32 Grad</td>\n",
       "    </tr>\n",
       "    <tr>\n",
       "      <th>4</th>\n",
       "      <td>K.I.Z &amp; Henning May</td>\n",
       "      <td>Hurra die Welt geht unter</td>\n",
       "    </tr>\n",
       "    <tr>\n",
       "      <th>...</th>\n",
       "      <td>...</td>\n",
       "      <td>...</td>\n",
       "    </tr>\n",
       "    <tr>\n",
       "      <th>95</th>\n",
       "      <td>Marteria</td>\n",
       "      <td>Endboss</td>\n",
       "    </tr>\n",
       "    <tr>\n",
       "      <th>96</th>\n",
       "      <td>Die Orsons</td>\n",
       "      <td>Schwung in die Kiste</td>\n",
       "    </tr>\n",
       "    <tr>\n",
       "      <th>97</th>\n",
       "      <td>Casper &amp; Blixa Bargeld &amp; Dagobert &amp; Sizarr</td>\n",
       "      <td>Lang lebe der Tod</td>\n",
       "    </tr>\n",
       "    <tr>\n",
       "      <th>98</th>\n",
       "      <td>Einstürzende Neubauten</td>\n",
       "      <td>Yü-Gung (Adrian Sherwood Remix)</td>\n",
       "    </tr>\n",
       "    <tr>\n",
       "      <th>99</th>\n",
       "      <td>Ton Steine Scherben</td>\n",
       "      <td>Bist du's</td>\n",
       "    </tr>\n",
       "  </tbody>\n",
       "</table>\n",
       "<p>100 rows × 2 columns</p>\n",
       "</div>"
      ],
      "text/plain": [
       "                                        artist  \\\n",
       "0                       Beginner & Samy Deluxe   \n",
       "1                                       Casper   \n",
       "2                                      Chefket   \n",
       "3                              Fatoni & Dexter   \n",
       "4                          K.I.Z & Henning May   \n",
       "..                                         ...   \n",
       "95                                    Marteria   \n",
       "96                                  Die Orsons   \n",
       "97  Casper & Blixa Bargeld & Dagobert & Sizarr   \n",
       "98                      Einstürzende Neubauten   \n",
       "99                         Ton Steine Scherben   \n",
       "\n",
       "                               song  \n",
       "0                            Füchse  \n",
       "1                     Im Ascheregen  \n",
       "2                        Rap & Soul  \n",
       "3                           32 Grad  \n",
       "4         Hurra die Welt geht unter  \n",
       "..                              ...  \n",
       "95                          Endboss  \n",
       "96             Schwung in die Kiste  \n",
       "97                Lang lebe der Tod  \n",
       "98  Yü-Gung (Adrian Sherwood Remix)  \n",
       "99                        Bist du's  \n",
       "\n",
       "[100 rows x 2 columns]"
      ]
     },
     "execution_count": 20,
     "metadata": {},
     "output_type": "execute_result"
    }
   ],
   "source": [
    "df_tsp = pd.DataFrame({'artist_song': artist_song})\n",
    "df_tsp[['artist', 'song']] = df_tsp['artist_song']. str.split(' - ', 1, expand=True)\n",
    "df_tsp.drop(columns = \"artist_song\",inplace=True)\n",
    "\n",
    "df_tsp"
   ]
  },
  {
   "cell_type": "markdown",
   "metadata": {},
   "source": [
    "### hot songs from MTV (list 3)\n",
    "tracklist \"Official Single Top 100\""
   ]
  },
  {
   "cell_type": "code",
   "execution_count": 21,
   "metadata": {},
   "outputs": [],
   "source": [
    "url = \"http://www.mtv.de/charts/c6mc86/single-top-100\""
   ]
  },
  {
   "cell_type": "code",
   "execution_count": 22,
   "metadata": {},
   "outputs": [
    {
     "data": {
      "text/plain": [
       "200"
      ]
     },
     "execution_count": 22,
     "metadata": {},
     "output_type": "execute_result"
    }
   ],
   "source": [
    "response = requests.get(url)\n",
    "response.status_code # 200 status code means OK!"
   ]
  },
  {
   "cell_type": "code",
   "execution_count": 23,
   "metadata": {},
   "outputs": [],
   "source": [
    "soup3 = BeautifulSoup(response.content, \"html.parser\")\n",
    "#soup3"
   ]
  },
  {
   "cell_type": "code",
   "execution_count": 24,
   "metadata": {
    "scrolled": false
   },
   "outputs": [],
   "source": [
    "#soup3.select(\".videoTitle\")"
   ]
  },
  {
   "cell_type": "code",
   "execution_count": 25,
   "metadata": {
    "scrolled": true
   },
   "outputs": [],
   "source": [
    "#soup3.select(\".artist\")"
   ]
  },
  {
   "cell_type": "code",
   "execution_count": 26,
   "metadata": {
    "scrolled": true
   },
   "outputs": [
    {
     "data": {
      "text/html": [
       "<div>\n",
       "<style scoped>\n",
       "    .dataframe tbody tr th:only-of-type {\n",
       "        vertical-align: middle;\n",
       "    }\n",
       "\n",
       "    .dataframe tbody tr th {\n",
       "        vertical-align: top;\n",
       "    }\n",
       "\n",
       "    .dataframe thead th {\n",
       "        text-align: right;\n",
       "    }\n",
       "</style>\n",
       "<table border=\"1\" class=\"dataframe\">\n",
       "  <thead>\n",
       "    <tr style=\"text-align: right;\">\n",
       "      <th></th>\n",
       "      <th>artist</th>\n",
       "      <th>song</th>\n",
       "    </tr>\n",
       "  </thead>\n",
       "  <tbody>\n",
       "    <tr>\n",
       "      <th>0</th>\n",
       "      <td>Nathan Evans</td>\n",
       "      <td>Wellerman</td>\n",
       "    </tr>\n",
       "    <tr>\n",
       "      <th>1</th>\n",
       "      <td>Kasimir1441 &amp; badmomzjay</td>\n",
       "      <td>Ohne dich</td>\n",
       "    </tr>\n",
       "    <tr>\n",
       "      <th>2</th>\n",
       "      <td>Jamule &amp; Capital Bra</td>\n",
       "      <td>No comprendo</td>\n",
       "    </tr>\n",
       "    <tr>\n",
       "      <th>3</th>\n",
       "      <td>Tiesto</td>\n",
       "      <td>The Business</td>\n",
       "    </tr>\n",
       "    <tr>\n",
       "      <th>4</th>\n",
       "      <td>Olivia Rodrigo</td>\n",
       "      <td>drivers license</td>\n",
       "    </tr>\n",
       "    <tr>\n",
       "      <th>5</th>\n",
       "      <td>The Weeknd</td>\n",
       "      <td>Save Your Tears</td>\n",
       "    </tr>\n",
       "    <tr>\n",
       "      <th>6</th>\n",
       "      <td>Ufo361</td>\n",
       "      <td>Wings</td>\n",
       "    </tr>\n",
       "    <tr>\n",
       "      <th>7</th>\n",
       "      <td>Masked Wolf</td>\n",
       "      <td>Astronaut In The Ocean</td>\n",
       "    </tr>\n",
       "    <tr>\n",
       "      <th>8</th>\n",
       "      <td>Jason Derulo</td>\n",
       "      <td>Love Not War (The Tampa Beat)</td>\n",
       "    </tr>\n",
       "    <tr>\n",
       "      <th>9</th>\n",
       "      <td>Zoe Wees</td>\n",
       "      <td>Girls Like Us</td>\n",
       "    </tr>\n",
       "    <tr>\n",
       "      <th>10</th>\n",
       "      <td>ATB</td>\n",
       "      <td>Your Love (9PM)</td>\n",
       "    </tr>\n",
       "    <tr>\n",
       "      <th>11</th>\n",
       "      <td>The Weeknd</td>\n",
       "      <td>Blinding Lights</td>\n",
       "    </tr>\n",
       "    <tr>\n",
       "      <th>12</th>\n",
       "      <td>Master KG</td>\n",
       "      <td>Jerusalema (feat. Burna Boy &amp; Nomcebo Zikode)</td>\n",
       "    </tr>\n",
       "    <tr>\n",
       "      <th>13</th>\n",
       "      <td>Robin Schulz</td>\n",
       "      <td>All We Got (feat. KIDDO)</td>\n",
       "    </tr>\n",
       "    <tr>\n",
       "      <th>14</th>\n",
       "      <td>The Kid LAROI</td>\n",
       "      <td>WITHOUT YOU</td>\n",
       "    </tr>\n",
       "    <tr>\n",
       "      <th>15</th>\n",
       "      <td>VIZE</td>\n",
       "      <td>White Lies</td>\n",
       "    </tr>\n",
       "    <tr>\n",
       "      <th>16</th>\n",
       "      <td>Ed Sheeran</td>\n",
       "      <td>Afterglow</td>\n",
       "    </tr>\n",
       "    <tr>\n",
       "      <th>17</th>\n",
       "      <td>Joel Corry</td>\n",
       "      <td>Head &amp; Heart (feat. MNEK)</td>\n",
       "    </tr>\n",
       "    <tr>\n",
       "      <th>18</th>\n",
       "      <td>24KGoldn</td>\n",
       "      <td>Mood (feat. Iann Dior)</td>\n",
       "    </tr>\n",
       "    <tr>\n",
       "      <th>19</th>\n",
       "      <td>Meduza</td>\n",
       "      <td>Paradise</td>\n",
       "    </tr>\n",
       "  </tbody>\n",
       "</table>\n",
       "</div>"
      ],
      "text/plain": [
       "                      artist                                           song\n",
       "0               Nathan Evans                                      Wellerman\n",
       "1   Kasimir1441 & badmomzjay                                      Ohne dich\n",
       "2       Jamule & Capital Bra                                   No comprendo\n",
       "3                     Tiesto                                   The Business\n",
       "4             Olivia Rodrigo                                drivers license\n",
       "5                 The Weeknd                                Save Your Tears\n",
       "6                     Ufo361                                          Wings\n",
       "7                Masked Wolf                         Astronaut In The Ocean\n",
       "8               Jason Derulo                  Love Not War (The Tampa Beat)\n",
       "9                   Zoe Wees                                  Girls Like Us\n",
       "10                       ATB                                Your Love (9PM)\n",
       "11                The Weeknd                                Blinding Lights\n",
       "12                 Master KG  Jerusalema (feat. Burna Boy & Nomcebo Zikode)\n",
       "13              Robin Schulz                       All We Got (feat. KIDDO)\n",
       "14             The Kid LAROI                                    WITHOUT YOU\n",
       "15                      VIZE                                     White Lies\n",
       "16                Ed Sheeran                                      Afterglow\n",
       "17                Joel Corry                      Head & Heart (feat. MNEK)\n",
       "18                  24KGoldn                         Mood (feat. Iann Dior)\n",
       "19                    Meduza                                       Paradise"
      ]
     },
     "execution_count": 26,
     "metadata": {},
     "output_type": "execute_result"
    }
   ],
   "source": [
    "#initializing empty lists\n",
    "song3 = []\n",
    "artist3 = []\n",
    "\n",
    "num_iter = len(soup3.select(\".videoTitle\"))\n",
    "\n",
    "#iterate through the result set and retrive all the data\n",
    "for i in range(num_iter):    \n",
    "    song3.append(soup3.select(\".videoTitle\")[i].get_text())\n",
    "    artist3.append(soup3.select(\".artist\")[i].get_text())\n",
    "    \n",
    "df_mtv = pd.DataFrame({'artist': artist3, 'song': song3})\n",
    "df_mtv"
   ]
  }
 ],
 "metadata": {
  "kernelspec": {
   "display_name": "Python 3",
   "language": "python",
   "name": "python3"
  },
  "language_info": {
   "codemirror_mode": {
    "name": "ipython",
    "version": 3
   },
   "file_extension": ".py",
   "mimetype": "text/x-python",
   "name": "python",
   "nbconvert_exporter": "python",
   "pygments_lexer": "ipython3",
   "version": "3.8.5"
  },
  "toc": {
   "base_numbering": 1,
   "nav_menu": {},
   "number_sections": true,
   "sideBar": true,
   "skip_h1_title": false,
   "title_cell": "Table of Contents",
   "title_sidebar": "Contents",
   "toc_cell": false,
   "toc_position": {
    "height": "calc(100% - 180px)",
    "left": "10px",
    "top": "150px",
    "width": "371.6px"
   },
   "toc_section_display": true,
   "toc_window_display": true
  },
  "varInspector": {
   "cols": {
    "lenName": 16,
    "lenType": 16,
    "lenVar": 40
   },
   "kernels_config": {
    "python": {
     "delete_cmd_postfix": "",
     "delete_cmd_prefix": "del ",
     "library": "var_list.py",
     "varRefreshCmd": "print(var_dic_list())"
    },
    "r": {
     "delete_cmd_postfix": ") ",
     "delete_cmd_prefix": "rm(",
     "library": "var_list.r",
     "varRefreshCmd": "cat(var_dic_list()) "
    }
   },
   "types_to_exclude": [
    "module",
    "function",
    "builtin_function_or_method",
    "instance",
    "_Feature"
   ],
   "window_display": false
  }
 },
 "nbformat": 4,
 "nbformat_minor": 4
}
